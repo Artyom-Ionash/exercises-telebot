{
 "cells": [
  {
   "cell_type": "code",
   "execution_count": 6,
   "metadata": {},
   "outputs": [
    {
     "data": {
      "text/plain": [
       "1"
      ]
     },
     "execution_count": 6,
     "metadata": {},
     "output_type": "execute_result"
    }
   ],
   "source": [
    "int(1.25)"
   ]
  },
  {
   "cell_type": "code",
   "execution_count": 7,
   "metadata": {},
   "outputs": [],
   "source": [
    "from telebot import TeleBot\n",
    "from telebot.types import Message\n",
    "from io import BytesIO\n",
    "from image_manager import init_board\n",
    "import db\n",
    "\n",
    "\n",
    "# Токен вашего бота, полученный от https://t.me/BotFather\n",
    "TOKEN: str = \"ВАШ_ТОКЕН\"  # TODO: Подставляем токен\n",
    "\n",
    "# TODO: сервер бота всё ещё не совсем работоспособен, это нужно исправить\n",
    "\n",
    "# Создаем экземпляр бота с указанным токеном\n",
    "bot: TeleBot = TeleBot(TOKEN)\n",
    "\n",
    "\n",
    "@bot.message_handler(commands=[\"start\"])\n",
    "def start(message: Message) -> None:\n",
    "    \"\"\"\n",
    "    Обрабатывает команду /start и отправляет приветственное сообщение\n",
    "    вместе с изображением шахматной доски.\n",
    "\n",
    "    :param message: Объект сообщения, содержащий информацию о чате.\n",
    "    \"\"\"\n",
    "    bot.send_message(message.chat.id, \"Привет!\")\n",
    "    board = init_board()\n",
    "    image_io = BytesIO()\n",
    "    board.save(image_io, \"PNG\")\n",
    "    image_io.seek(0)\n",
    "    bot.send_photo(message.chat.id, image_io)\n",
    "\n",
    "\n",
    "@bot.message_handler(commands=[\"create_game\"])\n",
    "def create_game(message):\n",
    "    \"\"\"\n",
    "    Создает новую игру для пользователя.\n",
    "\n",
    "    Args:\n",
    "        message: Объект сообщения от пользователя, содержащий информацию о команде.\n",
    "    \"\"\"\n",
    "    if not message.from_user:\n",
    "        return\n",
    "\n",
    "    # Создаем игру и получаем уникальный идентификатор игры\n",
    "    game_id = db.create_game(message.from_user.id)\n",
    "    # Отправляем пользователю сообщение с id созданной игры\n",
    "    bot.send_message(message.from_user.id, \"Вы создали игру с id: \" + game_id)\n",
    "\n",
    "\n",
    "@bot.message_handler(commands=[\"join_game\"])\n",
    "def join_game(message: Message):\n",
    "    \"\"\"\n",
    "    Позволяет пользователю присоединиться к существующей игре.\n",
    "\n",
    "    Args:\n",
    "        message: Объект сообщения от пользователя, содержащий команду и id игры.\n",
    "    \"\"\"\n",
    "    if not (message.from_user and message.text):\n",
    "        return\n",
    "\n",
    "    # Разделяем текст сообщения, чтобы получить id игры\n",
    "    _, game_id = message.text.split(\" \")\n",
    "\n",
    "    # Проверяем, не полна ли игра\n",
    "    if db.game_full(game_id):\n",
    "        # Если игра уже началась, отправляем соответствующее сообщение\n",
    "        bot.send_message(message.chat.id, \"Игра уже началась\")\n",
    "        return\n",
    "\n",
    "    # Если игра не полна, присоединяем пользователя к игре\n",
    "    db.join_game(message.from_user.id, game_id)\n",
    "    # Отправляем пользователю сообщение о том, что он присоединился к игре\n",
    "    bot.send_message(message.chat.id, \"Вы присоединились к игре с id: \" + message.text)\n",
    "\n",
    "    # Получаем id белого игрока (например, первого игрока в игре)\n",
    "    white_user_id = db.get_user_id(game_id, \"white\")\n",
    "\n",
    "    # Если белый игрок существует, уведомляем его о новом участнике\n",
    "    if white_user_id:\n",
    "        bot.send_message(white_user_id[0], \"К игре присоединился игрок \" + message.from_user.first_name)\n",
    "\n",
    "\n",
    "if __name__ == \"__main__\":\n",
    "    bot.polling(none_stop=True)"
   ]
  }
 ],
 "metadata": {
  "kernelspec": {
   "display_name": "pip_telebot",
   "language": "python",
   "name": "python3"
  },
  "language_info": {
   "codemirror_mode": {
    "name": "ipython",
    "version": 3
   },
   "file_extension": ".py",
   "mimetype": "text/x-python",
   "name": "python",
   "nbconvert_exporter": "python",
   "pygments_lexer": "ipython3",
   "version": "3.12.6"
  }
 },
 "nbformat": 4,
 "nbformat_minor": 2
}
