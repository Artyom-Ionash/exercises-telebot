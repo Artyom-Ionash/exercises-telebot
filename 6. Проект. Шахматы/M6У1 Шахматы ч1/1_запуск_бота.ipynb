{
 "cells": [
  {
   "cell_type": "code",
   "execution_count": 11,
   "metadata": {},
   "outputs": [],
   "source": [
    "from telebot import TeleBot\n",
    "from telebot.types import Message\n",
    "from io import BytesIO\n",
    "from image_manager import init_board\n",
    "\n",
    "# Токен вашего бота, полученный от https://t.me/BotFather\n",
    "TOKEN: str = \"ВАШ_ТОКЕН\"  # TODO: Подставляем токен\n",
    "\n",
    "# Создаем экземпляр бота с указанным токеном\n",
    "bot: TeleBot = TeleBot(TOKEN)\n",
    "\n",
    "\n",
    "@bot.message_handler(commands=[\"start\"])\n",
    "def start(message: Message) -> None:\n",
    "    \"\"\"\n",
    "    Обрабатывает команду /start и отправляет приветственное сообщение\n",
    "    вместе с изображением шахматной доски.\n",
    "\n",
    "    :param message: Объект сообщения, содержащий информацию о чате.\n",
    "    \"\"\"\n",
    "    bot.send_message(message.chat.id, \"Привет!\")\n",
    "    board = init_board()\n",
    "    image_io = BytesIO()\n",
    "    board.save(image_io, \"PNG\")\n",
    "    image_io.seek(0)\n",
    "    bot.send_photo(message.chat.id, image_io)\n",
    "\n",
    "\n",
    "if __name__ == \"__main__\":\n",
    "    bot.polling(none_stop=True)"
   ]
  }
 ],
 "metadata": {
  "kernelspec": {
   "display_name": "pip_telebot",
   "language": "python",
   "name": "python3"
  },
  "language_info": {
   "codemirror_mode": {
    "name": "ipython",
    "version": 3
   },
   "file_extension": ".py",
   "mimetype": "text/x-python",
   "name": "python",
   "nbconvert_exporter": "python",
   "pygments_lexer": "ipython3",
   "version": "3.12.6"
  }
 },
 "nbformat": 4,
 "nbformat_minor": 2
}
