{
 "cells": [
  {
   "cell_type": "markdown",
   "metadata": {},
   "source": [
    "# Проект \"Бот с картинками\", на основе собранных данных\n"
   ]
  },
  {
   "cell_type": "markdown",
   "metadata": {},
   "source": [
    "## 2. Запуск \"Бота с картинками\"\n"
   ]
  },
  {
   "cell_type": "code",
   "execution_count": 8,
   "metadata": {},
   "outputs": [],
   "source": [
    "import os  # Импортируем модуль для работы с файловой системой\n",
    "from random import choice  # Импортируем функцию choice для случайного выбора элементов из списка\n",
    "from telebot import TeleBot, types  # Импортируем класс TeleBot и типы из библиотеки pyTelegramBotAPI\n",
    "\n",
    "# Токен вашего бота, полученный от https://t.me/BotFather\n",
    "TOKEN = \"ВАШ_ТОКЕН\"  # TODO: Подставляем токен\n",
    "\n",
    "# Создаем экземпляр бота с указанным токеном\n",
    "bot = TeleBot(TOKEN)\n",
    "\n",
    "\n",
    "@bot.message_handler(commands=[\"meme\"])\n",
    "def start(message):\n",
    "    \"\"\"\n",
    "    Обработчик команды /meme.\n",
    "    Выбирает случайное изображение из папки 'images' и отправляет его в чат.\n",
    "\n",
    "    :param message: Объект сообщения, содержащий информацию о команде и чате.\n",
    "    \"\"\"\n",
    "    # Получаем список файлов в папке 'images'\n",
    "    file = choice(os.listdir(\"images\"))  # Выбираем случайный файл из списка\n",
    "\n",
    "    # Открываем файл и отправляем его как фото\n",
    "    with open(f\"images/{file}\", \"rb\") as f:\n",
    "        bot.send_photo(message.chat.id, photo=f)  # Отправляем фото в чат\n",
    "\n",
    "\n",
    "if __name__ == \"__main__\":\n",
    "    # Запускаем бота в режиме постоянного опроса\n",
    "    bot.polling(none_stop=True, timeout=200)"
   ]
  }
 ],
 "metadata": {
  "kernelspec": {
   "display_name": "pip_telebot",
   "language": "python",
   "name": "python3"
  },
  "language_info": {
   "codemirror_mode": {
    "name": "ipython",
    "version": 3
   },
   "file_extension": ".py",
   "mimetype": "text/x-python",
   "name": "python",
   "nbconvert_exporter": "python",
   "pygments_lexer": "ipython3",
   "version": "3.12.6"
  }
 },
 "nbformat": 4,
 "nbformat_minor": 2
}
