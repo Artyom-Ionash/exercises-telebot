{
 "cells": [
  {
   "cell_type": "markdown",
   "metadata": {},
   "source": [
    "## Анализ html-файла\n",
    "\n",
    "Для начала сохраним в папку проекта HTML-страницу любого интересующего нас раздела, например \"Смешарики\" и назовём её `page.html`.\n",
    "\n",
    "- https://citaty.info/cartoon/smeshariki\n"
   ]
  },
  {
   "cell_type": "code",
   "execution_count": 1,
   "metadata": {},
   "outputs": [
    {
     "name": "stdout",
     "output_type": "stream",
     "text": [
      "Такой вот парадокс: мы совершаем подвиги для тех, кому до нас уже нет никакого дела, а любят нас те, кому мы нужны и без всяких подвигов...\n",
      "Я просто выгляжу как лось, а в душе я бабочка.\n",
      "Наверное, никого нельзя насильно заставить измениться, даже если он сам об этом просит. В конце концов, если ты созрел, то сможешь измениться и без посторонней помощи, сам.\n",
      "Очень трудно жить, думая о каждой ошибке, которую ты совершил, поэтому всё плохое забываешь, а помнишь только хорошее — очень удобно, но от себя не уйдёшь.\n",
      "Вот так всегда: для кого-то балласт, а для кого-то сокровище.\n"
     ]
    }
   ],
   "source": [
    "from bs4 import BeautifulSoup\n",
    "\n",
    "\n",
    "# Откроем HTML-файл с именем \"page.html\" c\n",
    "# помощью функции open() и читаем его содержимое\n",
    "with open(\"page.html\", \"r\", encoding=\"utf-8\") as f:\n",
    "    # Создаём объект BeautifulSoup из этого HTML-кода,\n",
    "    # используя модуль BeautifulSoup и указывая парсер lxml\n",
    "    soup = BeautifulSoup(f.read(), features=\"lxml\")\n",
    "\n",
    "# Список aneks_list, который будет содержать цитаты\n",
    "quotes_list: list[str] = []\n",
    "\n",
    "# Используем метод find_all() объекта soup для\n",
    "# поиска всех элементов элементов <a> с классом\n",
    "# \"citatyinfo-quote alink\" на странице.\n",
    "posts = soup.find_all(\"a\", class_=\"citatyinfo-quote alink\")\n",
    "for post in posts:\n",
    "    # Текст из этого тега извлекаем с помощью свойства text\n",
    "    # и удаляем начальные и конечные пробелы при помощью метода strip(),\n",
    "    # а затем добавляем результат в список quotes_list\n",
    "    quotes_list.append(post.text.strip())\n",
    "\n",
    "# Выведем 5 распознанных анекдотов, чтобы убедиться, что программа работает\n",
    "print(*quotes_list[:5], sep=\"\\n\")"
   ]
  }
 ],
 "metadata": {
  "kernelspec": {
   "display_name": "pip_telebot",
   "language": "python",
   "name": "python3"
  },
  "language_info": {
   "codemirror_mode": {
    "name": "ipython",
    "version": 3
   },
   "file_extension": ".py",
   "mimetype": "text/x-python",
   "name": "python",
   "nbconvert_exporter": "python",
   "pygments_lexer": "ipython3",
   "version": "3.12.6"
  }
 },
 "nbformat": 4,
 "nbformat_minor": 2
}
