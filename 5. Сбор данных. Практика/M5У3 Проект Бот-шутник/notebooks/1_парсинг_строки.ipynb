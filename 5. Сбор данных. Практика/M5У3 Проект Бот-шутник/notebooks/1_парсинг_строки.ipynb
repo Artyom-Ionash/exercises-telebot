{
 "cells": [
  {
   "cell_type": "markdown",
   "metadata": {},
   "source": [
    "## Анализ html-строки\n",
    "\n",
    "**Задача**: парсинг HTML-страницы и извлечение информации о категориях и URL-адресах, которые содержатся внутри тегов `<a>`.\n",
    "\n",
    "Из всех категорий выберем метки (tags):\n",
    "\n",
    "- Крош\n",
    "- Ёжик\n",
    "- Кар-Карыч\n",
    "- Нюша\n"
   ]
  },
  {
   "cell_type": "code",
   "execution_count": 1,
   "metadata": {},
   "outputs": [],
   "source": [
    "# Импортируем необходимую библиотеку\n",
    "from bs4 import BeautifulSoup\n",
    "\n",
    "# Для примера создадим HTML-разметку в виде строки-переменной прямо в нашей программе\n",
    "html = \"\"\"<div>\n",
    "    <a href=\"/character/krosh\">Крош</a>                                    \n",
    "    <a href=\"/character/ezhik\">Ёжик</a>\n",
    "    <a href=\"/character/kar-karych-0\">Кар-Карыч</a>\n",
    "    <a href=\"/character/nyusha\">Нюша</a>\n",
    "</div>\"\"\"\n",
    "\n",
    "# Выполняем парсинг HTML-кода (парсер - lxml) c использование BeautifulSoup\n",
    "soup = BeautifulSoup(html, features=\"lxml\")\n",
    "\n",
    "# Находим все элементы <a> в html помощью метода .find_all('a')\n",
    "a_tags = soup.find_all(\"a\")\n",
    "data = []\n",
    "# Проходим в цикле по найденным элементам <a> и извлекаем значение атрибута href и текст между открывающим и закрывающим тегами <a>\n",
    "for a_tag in a_tags:\n",
    "    url = \"https://citaty.info\" + a_tag[\"href\"]\n",
    "    category = a_tag.text\n",
    "    # Сохраняем полученную информацию в списке data\n",
    "    data.append([category, url])"
   ]
  },
  {
   "cell_type": "markdown",
   "metadata": {},
   "source": [
    "### Визуализируем результат\n"
   ]
  },
  {
   "cell_type": "code",
   "execution_count": 2,
   "metadata": {},
   "outputs": [
    {
     "name": "stdout",
     "output_type": "stream",
     "text": [
      "['Крош', 'https://citaty.info/character/krosh']\n",
      "['Ёжик', 'https://citaty.info/character/ezhik']\n",
      "['Кар-Карыч', 'https://citaty.info/character/kar-karych-0']\n",
      "['Нюша', 'https://citaty.info/character/nyusha']\n"
     ]
    }
   ],
   "source": [
    "# Выводим получившийся список\n",
    "print(*data, sep=\"\\n\")"
   ]
  }
 ],
 "metadata": {
  "kernelspec": {
   "display_name": "pip_telebot",
   "language": "python",
   "name": "python3"
  },
  "language_info": {
   "codemirror_mode": {
    "name": "ipython",
    "version": 3
   },
   "file_extension": ".py",
   "mimetype": "text/x-python",
   "name": "python",
   "nbconvert_exporter": "python",
   "pygments_lexer": "ipython3",
   "version": "3.12.6"
  }
 },
 "nbformat": 4,
 "nbformat_minor": 2
}
