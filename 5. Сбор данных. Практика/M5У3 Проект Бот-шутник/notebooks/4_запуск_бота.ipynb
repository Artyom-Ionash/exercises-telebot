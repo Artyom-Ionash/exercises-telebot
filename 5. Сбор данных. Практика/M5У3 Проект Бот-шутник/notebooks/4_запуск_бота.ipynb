{
 "cells": [
  {
   "cell_type": "markdown",
   "metadata": {},
   "source": [
    "# Создание бота\n",
    "\n",
    "Мы уже собрали список анекдотов по разным категориям.\n",
    "\n",
    "Пора **создать Telegram-бота**, который сможет эти анекдоты транслировать.\n",
    "\n",
    "---\n",
    "\n",
    "Мы создадим **Telegram-бота** с использованием **библиотеки TeleBot**.\n",
    "\n",
    "Также будем использовать **данные, сохранённые в файле \"aneks.pickle\"**, чтобы отправлять случайные анекдоты в ответ на команды и нажатия на кнопки пользователей.\n",
    "\n",
    "## Перейдём к **разбору кода**\n"
   ]
  },
  {
   "cell_type": "code",
   "execution_count": 1,
   "metadata": {},
   "outputs": [],
   "source": [
    "import pickle\n",
    "from random import choice\n",
    "from telebot import TeleBot, types\n",
    "\n",
    "# Токен вашего бота, полученный от https://t.me/BotFather\n",
    "TOKEN = \"ВАШ_ТОКЕН\"  # TODO: Подставляем токен\n",
    "\n",
    "# Создаём бота с использованием токена\n",
    "bot = TeleBot(TOKEN)\n",
    "\n",
    "# Открываем файл \"aneks.pickle\" для чтения в двоичным режиме,\n",
    "with open(\"quotes.pickle\", \"rb\") as f:\n",
    "    # а загруженные данные сохраняем в переменной data с помощью функции pickle.load()\n",
    "    data = pickle.load(f)\n",
    "\n",
    "\n",
    "@bot.callback_query_handler(func=lambda call: call.data)\n",
    "def send_anek(call):\n",
    "    \"\"\"\n",
    "    Обработчик, который вызывается **при нажатии на кнопку в сообщении**.\n",
    "\n",
    "    Он **выбирает анекдот из списка**, соответствующего выбранной пользователем категории\n",
    "    (переданной в параметре `call.data`), **и отправляет его** пользователю с помощью метода `bot.send_message()`.\n",
    "    \"\"\"\n",
    "    quote = choice(data[call.data])\n",
    "    bot.send_message(call.message.chat.id, text=quote)\n",
    "\n",
    "\n",
    "@bot.message_handler()\n",
    "def start(message):\n",
    "    \"\"\"\n",
    "    Обработчик, который вызывается **при получении сообщения** от пользователя.\n",
    "\n",
    "    Он создаёт пользовательский интерфейс. Бот отправляет сообщение пользователю\n",
    "    с текстом **\"Выберете категорию\"**\n",
    "    и добавленной разметкой для кнопок с помощью метода `bot.send_message()`.\n",
    "    \"\"\"\n",
    "    markup = types.InlineKeyboardMarkup()\n",
    "    for category in data.keys():\n",
    "        markup.add(types.InlineKeyboardButton(category, callback_data=category))\n",
    "    bot.send_message(message.chat.id, text=\"Выберите категорию\", reply_markup=markup)\n",
    "\n",
    "\n",
    "if __name__ == \"__main__\":\n",
    "    bot.polling(none_stop=True)"
   ]
  },
  {
   "cell_type": "markdown",
   "metadata": {},
   "source": [
    "### Документация pyTelegramBotAPI на русском\n",
    "\n",
    "- [`callback_query_handler(...)`](https://pytba.readthedocs.io/ru/latest/sync_version/index.html#telebot.TeleBot.callback_query_handler)\n",
    "\n",
    "- [`message_handler(...)`](https://pytba.readthedocs.io/ru/latest/sync_version/index.html#telebot.TeleBot.message_handler)\n",
    "\n",
    "---\n",
    "\n",
    "В результате наш бот будет получать и обрабатывать сообщения и события от пользователей Telegram, пока этот сервер запущен.\n"
   ]
  }
 ],
 "metadata": {
  "kernelspec": {
   "display_name": "pip_telebot",
   "language": "python",
   "name": "python3"
  },
  "language_info": {
   "codemirror_mode": {
    "name": "ipython",
    "version": 3
   },
   "file_extension": ".py",
   "mimetype": "text/x-python",
   "name": "python",
   "nbconvert_exporter": "python",
   "pygments_lexer": "ipython3",
   "version": "3.12.6"
  }
 },
 "nbformat": 4,
 "nbformat_minor": 2
}
